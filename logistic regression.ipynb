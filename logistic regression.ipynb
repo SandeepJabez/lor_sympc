{
 "cells": [
  {
   "cell_type": "code",
   "execution_count": 1,
   "metadata": {},
   "outputs": [],
   "source": [
    "from sklearn import datasets\n",
    "breast_cancer=datasets.load_breast_cancer()\n",
    "x,y=breast_cancer.data,breast_cancer.target"
   ]
  },
  {
   "cell_type": "code",
   "execution_count": 2,
   "metadata": {},
   "outputs": [
    {
     "name": "stdout",
     "output_type": "stream",
     "text": [
      "569\n",
      "30\n"
     ]
    }
   ],
   "source": [
    "n_samples,n_features=x.shape\n",
    "print(n_samples)\n",
    "print(n_features)"
   ]
  },
  {
   "cell_type": "code",
   "execution_count": 3,
   "metadata": {},
   "outputs": [],
   "source": [
    "from sklearn.model_selection import train_test_split\n",
    "x_train,x_test,y_train,y_test= train_test_split(x,y,test_size=0.2)"
   ]
  },
  {
   "cell_type": "code",
   "execution_count": 4,
   "metadata": {},
   "outputs": [],
   "source": [
    "# pre processing\n",
    "from sklearn.preprocessing import StandardScaler\n",
    "scaler=StandardScaler()\n",
    "x_train=scaler.fit_transform(x_train)\n",
    "x_test=scaler.transform(x_test)\n"
   ]
  },
  {
   "cell_type": "code",
   "execution_count": 5,
   "metadata": {},
   "outputs": [],
   "source": [
    "import numpy as np\n",
    "# import pytorch and torch.nn and convert to tensor\n",
    "import torch\n",
    "import torch.nn as nn\n",
    "import torch.nn.functional as F\n",
    "x_train = torch.from_numpy(x_train).float()\n",
    "y_train = torch.from_numpy(y_train).float()\n",
    "x_test = torch.from_numpy(x_test).float()\n",
    "y_test = torch.from_numpy(y_test).float()\n"
   ]
  },
  {
   "cell_type": "code",
   "execution_count": 6,
   "metadata": {},
   "outputs": [],
   "source": [
    "y_train=y_train.view(y_train.shape[0],1)\n",
    "y_test=y_test.view(y_test.shape[0],1)"
   ]
  },
  {
   "cell_type": "code",
   "execution_count": 7,
   "metadata": {},
   "outputs": [],
   "source": [
    "# building logistic regression model \n",
    "class logistic_reg(torch.nn.Module):\n",
    "    def __init__(self,no_of_input):\n",
    "        super(logistic_reg,self).__init__()\n",
    "        self.layer1=torch.nn.Linear(no_of_input,20)\n",
    "        self.layer2=torch.nn.Linear(20,1)\n",
    "    def forward(self,x):\n",
    "        y_predicted = self.layer1(x)\n",
    "        y_predicted= torch.sigmoid(self.layer2(y_predicted))\n",
    "        return y_predicted"
   ]
  },
  {
   "cell_type": "code",
   "execution_count": 8,
   "metadata": {},
   "outputs": [],
   "source": [
    "# training and optimization\n",
    "model=logistic_reg(n_features)"
   ]
  },
  {
   "cell_type": "code",
   "execution_count": 9,
   "metadata": {},
   "outputs": [],
   "source": [
    "criterion=torch.nn.BCELoss()\n",
    "optimizer=torch.optim.SGD(model.parameters(),lr=0.01)"
   ]
  },
  {
   "cell_type": "code",
   "execution_count": 10,
   "metadata": {},
   "outputs": [
    {
     "name": "stdout",
     "output_type": "stream",
     "text": [
      "epoch: 10 ,loss= 0.6508088707923889\n",
      "epoch: 20 ,loss= 0.5610125064849854\n",
      "epoch: 30 ,loss= 0.4952756464481354\n",
      "epoch: 40 ,loss= 0.44450584053993225\n",
      "epoch: 50 ,loss= 0.4038459062576294\n",
      "epoch: 60 ,loss= 0.37046805024147034\n",
      "epoch: 70 ,loss= 0.34256815910339355\n",
      "epoch: 80 ,loss= 0.31891170144081116\n",
      "epoch: 90 ,loss= 0.29861220717430115\n",
      "epoch: 100 ,loss= 0.28101247549057007\n"
     ]
    }
   ],
   "source": [
    "number_of_epochs=100\n",
    "for epoch in range(number_of_epochs):\n",
    " y_prediction=model(x_train)\n",
    " loss=criterion(y_prediction,y_train)\n",
    " loss.backward()\n",
    " optimizer.step()\n",
    " optimizer.zero_grad()\n",
    " if (epoch+1)%10 == 0:\n",
    "   print('epoch:', epoch+1,',loss=',loss.item())"
   ]
  },
  {
   "cell_type": "code",
   "execution_count": 11,
   "metadata": {},
   "outputs": [
    {
     "name": "stdout",
     "output_type": "stream",
     "text": [
      "0.9649122953414917\n"
     ]
    }
   ],
   "source": [
    "with torch.no_grad():\n",
    " y_pred=model(x_test)\n",
    " y_pred_class=y_pred.round()\n",
    " accuracy=(y_pred_class.eq(y_test).sum())/float(y_test.shape[0])\n",
    " print(accuracy.item())"
   ]
  },
  {
   "cell_type": "code",
   "execution_count": 15,
   "metadata": {},
   "outputs": [
    {
     "name": "stdout",
     "output_type": "stream",
     "text": [
      "epoch: 1 i: 455 loss: 0.044667169780919475\n",
      "epoch: 51 i: 455 loss: 0.04231144706098699\n",
      "epoch: 101 i: 455 loss: 0.04029132976350813\n",
      "epoch: 151 i: 455 loss: 0.03850677359895083\n",
      "epoch: 201 i: 455 loss: 0.03684166415994923\n",
      "epoch: 251 i: 455 loss: 0.035184245136834796\n"
     ]
    }
   ],
   "source": [
    "# training loop to calculate loss\n",
    "number_of_epochs=300\n",
    "for epoch in range(number_of_epochs):\n",
    "    running_loss=0\n",
    "    for i,data in enumerate(zip(x_train,y_train)):\n",
    "        inputs,labels=data\n",
    "        optimizer.zero_grad()\n",
    "        outputs=model(inputs)\n",
    "        loss=criterion(outputs,labels)\n",
    "        loss.backward()\n",
    "        optimizer.step()\n",
    "        running_loss+=loss.item()\n",
    "\n",
    "    if ((epoch%50)==0):\n",
    "        print('epoch:',epoch+1,'i:',i+1,'loss:',running_loss/300)"
   ]
  },
  {
   "cell_type": "code",
   "execution_count": 18,
   "metadata": {},
   "outputs": [],
   "source": [
    "# calculate inference time and loss\n",
    "start_time = time.time()\n",
    "plain_pred=model(x_test)\n",
    "end_time = time.time()"
   ]
  },
  {
   "cell_type": "code",
   "execution_count": 21,
   "metadata": {},
   "outputs": [
    {
     "name": "stdout",
     "output_type": "stream",
     "text": [
      "inference time: 0.6603620767593383\n",
      "loss: 1.0402671098709106\n"
     ]
    }
   ],
   "source": [
    "print('inference time:',(time.time()-start_time)/60)\n",
    "print('loss:',criterion(plain_pred,y_test).item())"
   ]
  },
  {
   "cell_type": "code",
   "execution_count": null,
   "metadata": {},
   "outputs": [],
   "source": []
  }
 ],
 "metadata": {
  "interpreter": {
   "hash": "81d15e962537a4feb30994dc5ca1fdf60472319e43d2752e4642508a3bf159c9"
  },
  "kernelspec": {
   "display_name": "Python 3.9.10 64-bit (windows store)",
   "language": "python",
   "name": "python3"
  },
  "language_info": {
   "codemirror_mode": {
    "name": "ipython",
    "version": 3
   },
   "file_extension": ".py",
   "mimetype": "text/x-python",
   "name": "python",
   "nbconvert_exporter": "python",
   "pygments_lexer": "ipython3",
   "version": "3.9.10"
  },
  "orig_nbformat": 4
 },
 "nbformat": 4,
 "nbformat_minor": 2
}
